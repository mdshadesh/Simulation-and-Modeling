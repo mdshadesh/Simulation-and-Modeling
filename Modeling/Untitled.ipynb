{
 "cells": [
  {
   "cell_type": "code",
   "execution_count": 1,
   "id": "c436418b",
   "metadata": {},
   "outputs": [
    {
     "name": "stdout",
     "output_type": "stream",
     "text": [
      "Naimul Hasan Shadesh\n",
      "CSE1903018059\n",
      "18A\n",
      "ÇSE424\n",
      "Simulation and Modeling Lab\n"
     ]
    }
   ],
   "source": [
    "print('Naimul Hasan Shadesh')\n",
    "print('CSE1903018059')\n",
    "print('18A')\n",
    "print(\"ÇSE424\")\n",
    "print('Simulation and Modeling Lab')"
   ]
  },
  {
   "cell_type": "code",
   "execution_count": 2,
   "id": "55f386db",
   "metadata": {},
   "outputs": [],
   "source": [
    "import numpy as np\n",
    "import pandas as pd"
   ]
  },
  {
   "cell_type": "code",
   "execution_count": 4,
   "id": "81497162",
   "metadata": {},
   "outputs": [],
   "source": [
    "data = pd.read_csv('My dataset.csv')"
   ]
  },
  {
   "cell_type": "code",
   "execution_count": 7,
   "id": "24636721",
   "metadata": {},
   "outputs": [
    {
     "name": "stdout",
     "output_type": "stream",
     "text": [
      "   age   has_facebook_account\n",
      "0   24                    1.0\n",
      "1   21                    1.0\n",
      "2   10                    0.0\n"
     ]
    }
   ],
   "source": [
    "print(data.head(3))"
   ]
  },
  {
   "cell_type": "code",
   "execution_count": 10,
   "id": "be5f041b",
   "metadata": {},
   "outputs": [
    {
     "data": {
      "text/plain": [
       "(20, 2)"
      ]
     },
     "execution_count": 10,
     "metadata": {},
     "output_type": "execute_result"
    }
   ],
   "source": [
    "data.shape"
   ]
  },
  {
   "cell_type": "code",
   "execution_count": 11,
   "id": "3e7102e1",
   "metadata": {},
   "outputs": [
    {
     "data": {
      "text/plain": [
       "age                      0\n",
       " has_facebook_account    1\n",
       "dtype: int64"
      ]
     },
     "execution_count": 11,
     "metadata": {},
     "output_type": "execute_result"
    }
   ],
   "source": [
    "data.isna().sum()"
   ]
  },
  {
   "cell_type": "code",
   "execution_count": 12,
   "id": "c29652f5",
   "metadata": {},
   "outputs": [],
   "source": [
    "data = data.fillna(data.mean())"
   ]
  },
  {
   "cell_type": "code",
   "execution_count": 14,
   "id": "3ade253a",
   "metadata": {},
   "outputs": [
    {
     "data": {
      "text/html": [
       "<div>\n",
       "<style scoped>\n",
       "    .dataframe tbody tr th:only-of-type {\n",
       "        vertical-align: middle;\n",
       "    }\n",
       "\n",
       "    .dataframe tbody tr th {\n",
       "        vertical-align: top;\n",
       "    }\n",
       "\n",
       "    .dataframe thead th {\n",
       "        text-align: right;\n",
       "    }\n",
       "</style>\n",
       "<table border=\"1\" class=\"dataframe\">\n",
       "  <thead>\n",
       "    <tr style=\"text-align: right;\">\n",
       "      <th></th>\n",
       "      <th>age</th>\n",
       "      <th>has_facebook_account</th>\n",
       "    </tr>\n",
       "  </thead>\n",
       "  <tbody>\n",
       "    <tr>\n",
       "      <th>0</th>\n",
       "      <td>24</td>\n",
       "      <td>1.000000</td>\n",
       "    </tr>\n",
       "    <tr>\n",
       "      <th>1</th>\n",
       "      <td>21</td>\n",
       "      <td>1.000000</td>\n",
       "    </tr>\n",
       "    <tr>\n",
       "      <th>2</th>\n",
       "      <td>10</td>\n",
       "      <td>0.000000</td>\n",
       "    </tr>\n",
       "    <tr>\n",
       "      <th>3</th>\n",
       "      <td>58</td>\n",
       "      <td>1.000000</td>\n",
       "    </tr>\n",
       "    <tr>\n",
       "      <th>4</th>\n",
       "      <td>16</td>\n",
       "      <td>0.000000</td>\n",
       "    </tr>\n",
       "    <tr>\n",
       "      <th>5</th>\n",
       "      <td>56</td>\n",
       "      <td>0.000000</td>\n",
       "    </tr>\n",
       "    <tr>\n",
       "      <th>6</th>\n",
       "      <td>28</td>\n",
       "      <td>1.000000</td>\n",
       "    </tr>\n",
       "    <tr>\n",
       "      <th>7</th>\n",
       "      <td>13</td>\n",
       "      <td>0.000000</td>\n",
       "    </tr>\n",
       "    <tr>\n",
       "      <th>8</th>\n",
       "      <td>18</td>\n",
       "      <td>1.000000</td>\n",
       "    </tr>\n",
       "    <tr>\n",
       "      <th>9</th>\n",
       "      <td>17</td>\n",
       "      <td>1.000000</td>\n",
       "    </tr>\n",
       "    <tr>\n",
       "      <th>10</th>\n",
       "      <td>80</td>\n",
       "      <td>0.000000</td>\n",
       "    </tr>\n",
       "    <tr>\n",
       "      <th>11</th>\n",
       "      <td>12</td>\n",
       "      <td>0.000000</td>\n",
       "    </tr>\n",
       "    <tr>\n",
       "      <th>12</th>\n",
       "      <td>44</td>\n",
       "      <td>1.000000</td>\n",
       "    </tr>\n",
       "    <tr>\n",
       "      <th>13</th>\n",
       "      <td>6</td>\n",
       "      <td>0.000000</td>\n",
       "    </tr>\n",
       "    <tr>\n",
       "      <th>14</th>\n",
       "      <td>25</td>\n",
       "      <td>1.000000</td>\n",
       "    </tr>\n",
       "    <tr>\n",
       "      <th>15</th>\n",
       "      <td>67</td>\n",
       "      <td>0.000000</td>\n",
       "    </tr>\n",
       "    <tr>\n",
       "      <th>16</th>\n",
       "      <td>1</td>\n",
       "      <td>0.000000</td>\n",
       "    </tr>\n",
       "    <tr>\n",
       "      <th>17</th>\n",
       "      <td>26</td>\n",
       "      <td>1.000000</td>\n",
       "    </tr>\n",
       "    <tr>\n",
       "      <th>18</th>\n",
       "      <td>22</td>\n",
       "      <td>0.526316</td>\n",
       "    </tr>\n",
       "    <tr>\n",
       "      <th>19</th>\n",
       "      <td>23</td>\n",
       "      <td>1.000000</td>\n",
       "    </tr>\n",
       "  </tbody>\n",
       "</table>\n",
       "</div>"
      ],
      "text/plain": [
       "    age   has_facebook_account\n",
       "0    24               1.000000\n",
       "1    21               1.000000\n",
       "2    10               0.000000\n",
       "3    58               1.000000\n",
       "4    16               0.000000\n",
       "5    56               0.000000\n",
       "6    28               1.000000\n",
       "7    13               0.000000\n",
       "8    18               1.000000\n",
       "9    17               1.000000\n",
       "10   80               0.000000\n",
       "11   12               0.000000\n",
       "12   44               1.000000\n",
       "13    6               0.000000\n",
       "14   25               1.000000\n",
       "15   67               0.000000\n",
       "16    1               0.000000\n",
       "17   26               1.000000\n",
       "18   22               0.526316\n",
       "19   23               1.000000"
      ]
     },
     "execution_count": 14,
     "metadata": {},
     "output_type": "execute_result"
    }
   ],
   "source": [
    "data"
   ]
  },
  {
   "cell_type": "code",
   "execution_count": 13,
   "id": "0288e5f9",
   "metadata": {},
   "outputs": [],
   "source": [
    "import matplotlib.pyplot as plt"
   ]
  },
  {
   "cell_type": "code",
   "execution_count": 17,
   "id": "f8ddb015",
   "metadata": {},
   "outputs": [],
   "source": [
    "plt.show()"
   ]
  },
  {
   "cell_type": "code",
   "execution_count": 23,
   "id": "ef48af29",
   "metadata": {
    "scrolled": false
   },
   "outputs": [
    {
     "data": {
      "image/png": "[encoded data removed]",
      "text/plain": [
       "<Figure size 640x480 with 1 Axes>"
      ]
     },
     "metadata": {},
     "output_type": "display_data"
    }
   ],
   "source": [
    "plt.scatter(data['age'], data[' has_facebook_account'])\n",
    "plt.xlabel('age')\n",
    "plt.ylabel(' has_facebook_account')\n",
    "plt.title('')\n",
    "plt.show()"
   ]
  },
  {
   "cell_type": "code",
   "execution_count": 28,
   "id": "58e85b14",
   "metadata": {},
   "outputs": [
    {
     "name": "stdout",
     "output_type": "stream",
     "text": [
      "Percentage of Facebook users in age group 0-14  : 0.0\n",
      "Percentage of Facebook users in age group 18-28 : 87.5\n",
      "Percentage of Facebook users in age group 30+   : 40.0\n"
     ]
    }
   ],
   "source": [
    "# create three age group filters\n",
    "age_group_0_14 = data[(data['age'] >= 0) & (data['age'] <= 14)]\n",
    "age_group_18_28 = data[(data['age'] >= 18) & (data['age'] <= 28)]\n",
    "age_group_30_plus = data[data['age'] >= 30]\n",
    "\n",
    "# calculate the percentage of users with a Facebook account in each age group\n",
    "fb_pct_0_14 = len(age_group_0_14[age_group_0_14[' has_facebook_account'] == 1]) / len(age_group_0_14) * 100\n",
    "fb_pct_18_28 = len(age_group_18_28[age_group_18_28[' has_facebook_account'] == 1]) / len(age_group_18_28) * 100\n",
    "fb_pct_30_plus = len(age_group_30_plus[age_group_30_plus[' has_facebook_account'] == 1]) / len(age_group_30_plus) * 100\n",
    "\n",
    "# print the results\n",
    "print(\"Percentage of Facebook users in age group 0-14  :\", fb_pct_0_14)\n",
    "print(\"Percentage of Facebook users in age group 18-28 :\", fb_pct_18_28)\n",
    "print(\"Percentage of Facebook users in age group 30+   :\", fb_pct_30_plus)"
   ]
  },
  {
   "cell_type": "code",
   "execution_count": 30,
   "id": "001cb218",
   "metadata": {},
   "outputs": [
    {
     "data": {
      "image/png": "[encoded data removed]",
      "text/plain": [
       "<Figure size 640x480 with 1 Axes>"
      ]
     },
     "metadata": {},
     "output_type": "display_data"
    }
   ],
   "source": [
    "data = pd.DataFrame({\n",
    "    'age': [10, 20, 30, 40, 50],\n",
    "    'has_facebook_account': [True, True, False, True, False]\n",
    "})\n",
    "\n",
    "# Calculate the percentages\n",
    "age_group_0_14 = data[(data['age'] >= 0) & (data['age'] <= 14)]['has_facebook_account'].mean()\n",
    "age_group_18_28 = data[(data['age'] >= 18) & (data['age'] <= 28)]['has_facebook_account'].mean()\n",
    "age_group_30_plus = data[(data['age'] >= 30)]['has_facebook_account'].mean()\n",
    "\n",
    "facebook_percentages = [age_group_0_14, age_group_18_28, age_group_30_plus]\n",
    "\n",
    "# Create a pandas DataFrame with the results\n",
    "df = pd.DataFrame({\n",
    "    'Age Group': ['0 - 14', '18 - 28', '30+'],\n",
    "    'Facebook Users': facebook_percentages\n",
    "})\n",
    "\n",
    "# Create a pie chart\n",
    "plt.pie(df['Facebook Users'], labels=df['Age Group'], autopct='%1.1f%%')\n",
    "plt.title('Percentage of Facebook Users by Age Group')\n",
    "plt.show()"
   ]
  },
  {
   "cell_type": "code",
   "execution_count": 31,
   "id": "9f600807",
   "metadata": {},
   "outputs": [],
   "source": [
    "from sklearn.model_selection import train_test_split\n",
    "from sklearn.linear_model import LogisticRegression\n",
    "from sklearn.metrics import accuracy_score"
   ]
  },
  {
   "cell_type": "code",
   "execution_count": 33,
   "id": "cea7d70f",
   "metadata": {},
   "outputs": [
    {
     "name": "stdout",
     "output_type": "stream",
     "text": [
      "Accuracy: 100.00%\n"
     ]
    }
   ],
   "source": [
    "# Prepare the data for training\n",
    "X = data[['age']]\n",
    "y = data['has_facebook_account']\n",
    "\n",
    "# Split the data into training and testing sets\n",
    "X_train, X_test, y_train, y_test = train_test_split(X, y, test_size=0.2, random_state=42)\n",
    "\n",
    "# Train the logistic regression model\n",
    "model = LogisticRegression()\n",
    "model.fit(X_train, y_train)\n",
    "\n",
    "# Make predictions on the testing set\n",
    "y_pred = model.predict(X_test)\n",
    "\n",
    "# Evaluate the accuracy of the model\n",
    "accuracy = accuracy_score(y_test, y_pred)\n",
    "print('Accuracy: {:.2f}%'.format(accuracy * 100))"
   ]
  },
  {
   "cell_type": "code",
   "execution_count": 35,
   "id": "b0a1a025",
   "metadata": {},
   "outputs": [
    {
     "name": "stdout",
     "output_type": "stream",
     "text": [
      "Predictions:\n",
      "A person aged 7 is predicted to have a Facebook account\n",
      "A person aged 29 is predicted to have a Facebook account\n",
      "A person aged 79 is predicted to not have a Facebook account\n"
     ]
    }
   ],
   "source": [
    "# Predict if a person with the age of 7, 29, and 79 has a Facebook account\n",
    "new_data = pd.DataFrame({'age': [7, 29, 79]})\n",
    "predictions = model.predict(new_data)\n",
    "\n",
    "print(\"Predictions:\")\n",
    "for age, prediction in zip(new_data['age'], predictions):\n",
    "    if prediction == 1:\n",
    "        print(f\"A person aged {age} is predicted to have a Facebook account\")\n",
    "    else:\n",
    "        print(f\"A person aged {age} is predicted to not have a Facebook account\")"
   ]
  },
  {
   "cell_type": "code",
   "execution_count": 36,
   "id": "42249c29",
   "metadata": {},
   "outputs": [
    {
     "name": "stdout",
     "output_type": "stream",
     "text": [
      "Accuracy: 1.0\n"
     ]
    }
   ],
   "source": [
    "accuracy = accuracy_score(y_test, y_pred)\n",
    "\n",
    "print(\"Accuracy:\", accuracy)"
   ]
  },
  {
   "cell_type": "code",
   "execution_count": null,
   "id": "a6c0a2d5",
   "metadata": {},
   "outputs": [],
   "source": []
  }
 ],
 "metadata": {
  "kernelspec": {
   "display_name": "Python 3 (ipykernel)",
   "language": "python",
   "name": "python3"
  },
  "language_info": {
   "codemirror_mode": {
    "name": "ipython",
    "version": 3
   },
   "file_extension": ".py",
   "mimetype": "text/x-python",
   "name": "python",
   "nbconvert_exporter": "python",
   "pygments_lexer": "ipython3",
   "version": "3.9.13"
  }
 },
 "nbformat": 4,
 "nbformat_minor": 5
}
